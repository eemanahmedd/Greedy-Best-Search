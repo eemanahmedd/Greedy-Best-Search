{
 "cells": [
  {
   "cell_type": "markdown",
   "id": "2e485397",
   "metadata": {},
   "source": [
    "# Greedy Best Search"
   ]
  },
  {
   "cell_type": "code",
   "execution_count": 15,
   "id": "bab570db",
   "metadata": {},
   "outputs": [],
   "source": [
    "from collections import defaultdict\n",
    "from queue import PriorityQueue\n",
    "\n",
    "#Graph data\n",
    "data = defaultdict(list)\n",
    "data['A'] = ['B','C','D',6]\n",
    "data['B'] = ['E','F',3]\n",
    "data['C'] = ['G','H',4]\n",
    "data['D'] = ['I','J',5]\n",
    "data['E'] = [3]\n",
    "data['F'] = ['K','L','M',1]\n",
    "data['G'] = [6]\n",
    "data['H'] = ['N','O',2]\n",
    "data['I'] = [5]\n",
    "data['J'] = [4]\n",
    "data['K'] = [2]\n",
    "data['L'] = [0]\n",
    "data['M'] = [4]\n",
    "data['N'] = [0]\n",
    "data['O'] = [4]\n"
   ]
  },
  {
   "cell_type": "code",
   "execution_count": 16,
   "id": "e29c29cf",
   "metadata": {},
   "outputs": [],
   "source": [
    "#create a node class that stores the value of the node\n",
    "class Node:\n",
    "    \n",
    "    #constructor \n",
    "    def __init__(self, name, par=None, h=0):\n",
    "        self.name = name\n",
    "        self.par = par\n",
    "        self.h = h #heuristic\n",
    "        \n",
    "    #print node\n",
    "    def display(self):\n",
    "        print(self.name,self.h)\n",
    "        \n",
    "    #compare evaluation function between 2 nodes\n",
    "    def __lt__(self, other):   # comparing using less than method \n",
    "        if other == None:\n",
    "            return False\n",
    "        return self.h < other.h\n",
    "    \n",
    "    #See if 2 nodes are same\n",
    "    def __eq__(self,other):\n",
    "        if other == None:\n",
    "            return False\n",
    "        return self.name == other.name\n"
   ]
  },
  {
   "cell_type": "code",
   "execution_count": 17,
   "id": "3a8e0b50",
   "metadata": {},
   "outputs": [],
   "source": [
    "# Check if 2 Nodes have the same name\n",
    "def equal(O, G):\n",
    "    if O.name == G.name:\n",
    "        return True\n",
    "    return False\n",
    "\n",
    "#Check if Node is in the queue\n",
    "def checkInPriority(tmp, c):\n",
    "    if tmp == None:\n",
    "        return False\n",
    "    return (tmp in c.queue)\n",
    "\n",
    "#Print out the path and the distance\n",
    "def getPath(O, distance):\n",
    "    print(O.name)\n",
    "    distance += O.h\n",
    "    if O.par != None:\n",
    "        getPath(O.par, distance)\n",
    "    else:\n",
    "        print('Distance: ',distance)\n",
    "        return\n"
   ]
  },
  {
   "cell_type": "code",
   "execution_count": 21,
   "id": "2a400ed6",
   "metadata": {},
   "outputs": [],
   "source": [
    "# Search Algorithm Greedy Best First Search\n",
    "def greedyBestFirstSearch(S, G):\n",
    "    Open = PriorityQueue()\n",
    "    Closed = PriorityQueue()\n",
    "    S.h = data[S.name][-1]\n",
    "    Open.put(S)\n",
    "    while True:\n",
    "        if Open.empty() == True:\n",
    "            print('Search failed')\n",
    "            return\n",
    "        O = Open.get()\n",
    "        Closed.put(O)\n",
    "        print('Node found: ',O.name,\"(\",O.h,\")\")\n",
    "        if equal(O,G) == True:\n",
    "            print('Search was successful!')\n",
    "            print('Path: ')\n",
    "            distance = 0\n",
    "            getPath(O,distance)\n",
    "            return\n",
    "        \n",
    "        i=0\n",
    "        while i<len(data[O.name]) - 1:\n",
    "            name = data[O.name][i]\n",
    "            h = data[name][-1]\n",
    "\n",
    "            tmp = Node(name = name, h=h)\n",
    "            tmp.par = O\n",
    "\n",
    "            ok1 = checkInPriority(tmp, Open)\n",
    "            ok2 = checkInPriority(tmp,Closed)\n",
    "\n",
    "            if not ok1 and not ok2:\n",
    "                Open.put(tmp)\n",
    "            i += 1\n"
   ]
  },
  {
   "cell_type": "code",
   "execution_count": 22,
   "id": "405797ad",
   "metadata": {},
   "outputs": [
    {
     "name": "stdout",
     "output_type": "stream",
     "text": [
      "Enter starting point: a\n",
      "Enter the end point: h\n"
     ]
    }
   ],
   "source": [
    "#Enter start and end points\n",
    "\n",
    "S=input(\"Enter starting point: \")\n",
    "S=S.upper()\n",
    "while S not in data:\n",
    "    print(\"Node not in graph\")\n",
    "    S=input(\"Re-enter the starting point: \")\n",
    "    S=S.upper()\n",
    "\n",
    "G=input(\"Enter the end point: \")\n",
    "G=G.upper()\n",
    "while G not in data:\n",
    "    print(\"Node not in graph\")\n",
    "    G=input(\"Re-enter the end point: \")\n",
    "    G=G.upper()\n",
    "    "
   ]
  },
  {
   "cell_type": "code",
   "execution_count": 23,
   "id": "535dc4fd",
   "metadata": {},
   "outputs": [
    {
     "name": "stdout",
     "output_type": "stream",
     "text": [
      "Node found:  A ( 6 )\n",
      "Node found:  B ( 3 )\n",
      "Node found:  F ( 1 )\n",
      "Node found:  L ( 0 )\n",
      "Node found:  K ( 2 )\n",
      "Node found:  E ( 3 )\n",
      "Node found:  C ( 4 )\n",
      "Node found:  H ( 2 )\n",
      "Search was successful!\n",
      "Path: \n",
      "H\n",
      "C\n",
      "A\n",
      "Distance:  12\n"
     ]
    }
   ],
   "source": [
    "#function call\n",
    "greedyBestFirstSearch(Node(S),Node(G))"
   ]
  },
  {
   "cell_type": "code",
   "execution_count": null,
   "id": "4a12462b",
   "metadata": {},
   "outputs": [],
   "source": []
  }
 ],
 "metadata": {
  "kernelspec": {
   "display_name": "Python 3",
   "language": "python",
   "name": "python3"
  },
  "language_info": {
   "codemirror_mode": {
    "name": "ipython",
    "version": 3
   },
   "file_extension": ".py",
   "mimetype": "text/x-python",
   "name": "python",
   "nbconvert_exporter": "python",
   "pygments_lexer": "ipython3",
   "version": "3.8.8"
  }
 },
 "nbformat": 4,
 "nbformat_minor": 5
}
